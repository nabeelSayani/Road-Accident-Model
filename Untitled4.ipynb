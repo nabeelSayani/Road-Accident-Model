{
  "nbformat": 4,
  "nbformat_minor": 0,
  "metadata": {
    "colab": {
      "provenance": []
    },
    "kernelspec": {
      "name": "python3",
      "display_name": "Python 3"
    },
    "language_info": {
      "name": "python"
    }
  },
  "cells": [
    {
      "cell_type": "code",
      "execution_count": 1,
      "metadata": {
        "id": "E9rnyWRXgOwS"
      },
      "outputs": [],
      "source": [
        "import pandas as pd\n",
        "import numpy as np\n",
        "import statsmodels.api as sm\n",
        "import pickle\n"
      ]
    },
    {
      "cell_type": "code",
      "source": [
        "# Example data input\n",
        "data = {\n",
        "    'weather_condition': [0, 1, 2, 0, 1],  # 0 = clear, 1 = rainy, 2 = foggy\n",
        "    'time_of_day': [0, 1, 1, 0, 1],        # 0 = day, 1 = night\n",
        "    'road_type': [0, 1, 0, 1, 1],          # 0 = urban, 1 = rural\n",
        "    'accident_severity': [0, 1, 2, 0, 1]  # dependent variable\n",
        "}\n",
        "\n",
        "df = pd.DataFrame(data)\n"
      ],
      "metadata": {
        "id": "1goFcJKXgT7j"
      },
      "execution_count": 2,
      "outputs": []
    },
    {
      "cell_type": "code",
      "source": [
        "X = df[['weather_condition', 'time_of_day', 'road_type']]\n",
        "y = df['accident_severity']\n",
        "\n",
        "# Add a constant to the independent variables\n",
        "X = sm.add_constant(X)\n"
      ],
      "metadata": {
        "id": "ugDmgtLhgaaA"
      },
      "execution_count": 3,
      "outputs": []
    },
    {
      "cell_type": "code",
      "source": [
        "model = sm.OLS(y, X).fit()\n",
        "print(model.summary())\n"
      ],
      "metadata": {
        "colab": {
          "base_uri": "https://localhost:8080/"
        },
        "id": "x_gBtewjgdfC",
        "outputId": "a5e65b47-2894-47da-e5af-04d69ecf7db4"
      },
      "execution_count": 4,
      "outputs": [
        {
          "output_type": "stream",
          "name": "stdout",
          "text": [
            "                            OLS Regression Results                            \n",
            "==============================================================================\n",
            "Dep. Variable:      accident_severity   R-squared:                       1.000\n",
            "Model:                            OLS   Adj. R-squared:                  1.000\n",
            "Method:                 Least Squares   F-statistic:                 1.347e+29\n",
            "Date:                Sat, 26 Oct 2024   Prob (F-statistic):           2.00e-15\n",
            "Time:                        20:26:05   Log-Likelihood:                 164.78\n",
            "No. Observations:                   5   AIC:                            -321.6\n",
            "Df Residuals:                       1   BIC:                            -323.1\n",
            "Df Model:                           3                                         \n",
            "Covariance Type:            nonrobust                                         \n",
            "=====================================================================================\n",
            "                        coef    std err          t      P>|t|      [0.025      0.975]\n",
            "-------------------------------------------------------------------------------------\n",
            "const             -2.079e-16   2.63e-15     -0.079      0.950   -3.36e-14    3.32e-14\n",
            "weather_condition     1.0000   4.92e-15   2.03e+14      0.000       1.000       1.000\n",
            "time_of_day                0   7.44e-15          0      1.000   -9.46e-14    9.46e-14\n",
            "road_type          6.305e-16   3.72e-15      0.169      0.893   -4.67e-14    4.79e-14\n",
            "==============================================================================\n",
            "Omnibus:                          nan   Durbin-Watson:                   0.755\n",
            "Prob(Omnibus):                    nan   Jarque-Bera (JB):                0.525\n",
            "Skew:                           0.469   Prob(JB):                        0.769\n",
            "Kurtosis:                       1.720   Cond. No.                         13.2\n",
            "==============================================================================\n",
            "\n",
            "Notes:\n",
            "[1] Standard Errors assume that the covariance matrix of the errors is correctly specified.\n"
          ]
        },
        {
          "output_type": "stream",
          "name": "stderr",
          "text": [
            "/usr/local/lib/python3.10/dist-packages/statsmodels/stats/stattools.py:74: ValueWarning: omni_normtest is not valid with less than 8 observations; 5 samples were given.\n",
            "  warn(\"omni_normtest is not valid with less than 8 observations; %i \"\n"
          ]
        }
      ]
    },
    {
      "cell_type": "code",
      "source": [
        "with open('accident_severity_model.pkl', 'wb') as file:\n",
        "    pickle.dump(model, file)\n"
      ],
      "metadata": {
        "id": "khI5TaZ9ggtu"
      },
      "execution_count": 5,
      "outputs": []
    },
    {
      "cell_type": "code",
      "source": [
        "# Load the model\n",
        "with open('accident_severity_model.pkl', 'rb') as file:\n",
        "    loaded_model = pickle.load(file)\n",
        "\n",
        "# Example hypothetical data\n",
        "hypothetical_data = pd.DataFrame({\n",
        "    'const': [1],  # Add constant for the model\n",
        "    'weather_condition': [1],  # e.g., rainy\n",
        "    'time_of_day': [1],        # e.g., night\n",
        "    'road_type': [0]           # e.g., urban\n",
        "})\n",
        "\n",
        "# Predict accident severity\n",
        "predicted_severity = loaded_model.predict(hypothetical_data)\n",
        "print(f\"Predicted Accident Severity: {predicted_severity[0]}\")\n"
      ],
      "metadata": {
        "colab": {
          "base_uri": "https://localhost:8080/"
        },
        "id": "z78E8J7jglOT",
        "outputId": "8070dd1c-8caf-41e0-ddfc-620a674252ca"
      },
      "execution_count": 6,
      "outputs": [
        {
          "output_type": "stream",
          "name": "stdout",
          "text": [
            "Predicted Accident Severity: 1.0000000000000007\n"
          ]
        }
      ]
    }
  ]
}